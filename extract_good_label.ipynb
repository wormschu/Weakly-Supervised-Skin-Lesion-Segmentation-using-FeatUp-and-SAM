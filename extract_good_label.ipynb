{
 "cells": [
  {
   "cell_type": "code",
   "execution_count": null,
   "id": "24a17964",
   "metadata": {},
   "outputs": [],
   "source": [
    "import os\n",
    "import cv2\n",
    "import numpy as np\n",
    "\n",
    "def calculate_dice(mask1, mask2):\n",
    "    mask1 = (mask1 > 0).astype(np.uint8)\n",
    "    mask2 = (mask2 > 0).astype(np.uint8)\n",
    "\n",
    "    intersection = np.sum(mask1 * mask2)\n",
    "    dice = (2. * intersection) / (np.sum(mask1) + np.sum(mask2) + 1e-8)\n",
    "    return dice\n",
    "\n",
    "cam_binary_dir =\"\"\n",
    "all_sam_dir = \"\"\n",
    "output_dir = \"\"\n",
    "os.makedirs(output_dir, exist_ok=True)\n",
    "\n",
    "for cam_file in os.listdir(cam_binary_dir):\n",
    "    cam_path = os.path.join(cam_binary_dir, cam_file)\n",
    "\n",
    "    cam_mask = cv2.imread(cam_path, cv2.IMREAD_GRAYSCALE)\n",
    "    if cam_mask is None:\n",
    "        print(f\"Failed to read CAM mask: {cam_path}\")\n",
    "        continue\n",
    "\n",
    "    # ALL_SAM에서 해당 이미지 이름에 대응되는 폴더 찾기\n",
    "    sam_folder = os.path.join(all_sam_dir, cam_file.split('.')[0])\n",
    "    if not os.path.exists(sam_folder):\n",
    "        print(f\"SAM folder not found for: {cam_file}\")\n",
    "        continue\n",
    "\n",
    "    best_dice = 0\n",
    "    best_mask_path = None\n",
    "\n",
    "    for sam_file in os.listdir(sam_folder):\n",
    "        sam_path = os.path.join(sam_folder, sam_file)\n",
    "\n",
    "        sam_mask = cv2.imread(sam_path, cv2.IMREAD_GRAYSCALE)\n",
    "        if sam_mask is None:\n",
    "            print(f\"Failed to read SAM mask: {sam_path}\")\n",
    "            continue\n",
    "\n",
    "        dice = calculate_dice(cam_mask, sam_mask)\n",
    "        if dice > best_dice:\n",
    "            best_dice = dice\n",
    "            best_mask_path = sam_path\n",
    "\n",
    "    if best_dice >= 0.5 and best_mask_path is not None:\n",
    "        selected_mask = cv2.imread(best_mask_path, cv2.IMREAD_GRAYSCALE)\n",
    "        output_path = os.path.join(output_dir, cam_file)\n",
    "        cv2.imwrite(output_path, selected_mask)\n",
    "        print(f\"Saved: {output_path} with Dice: {best_dice:.4f}\")\n",
    "    else:\n",
    "        print(f\"Skipped: {cam_file} (Max Dice: {best_dice:.4f})\")\n"
   ]
  }
 ],
 "metadata": {
  "kernelspec": {
   "display_name": "4090",
   "language": "python",
   "name": "worms"
  },
  "language_info": {
   "codemirror_mode": {
    "name": "ipython",
    "version": 3
   },
   "file_extension": ".py",
   "mimetype": "text/x-python",
   "name": "python",
   "nbconvert_exporter": "python",
   "pygments_lexer": "ipython3",
   "version": "3.9.0"
  }
 },
 "nbformat": 4,
 "nbformat_minor": 5
}
