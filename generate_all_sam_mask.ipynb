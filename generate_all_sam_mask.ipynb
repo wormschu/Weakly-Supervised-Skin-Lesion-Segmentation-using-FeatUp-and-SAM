{
 "cells": [
  {
   "cell_type": "code",
   "execution_count": 1,
   "id": "cf9a0f29",
   "metadata": {},
   "outputs": [],
   "source": [
    "# Copyright (c) Meta Platforms, Inc. and affiliates.\n",
    "\n",
    "import sys\n",
    "import cv2\n",
    "import numpy as np\n",
    "sys.path.append(\"..\")\n",
    "from segment_anything import SamAutomaticMaskGenerator, sam_model_registry\n",
    "from segment_anything import sam_model_registry, SamPredictor\n",
    "\n",
    "sam_checkpoint = \"sam_vit_h_4b8939.pth\"\n",
    "model_type = \"vit_h\"\n",
    "\n",
    "device = \"cuda\"\n",
    "\n",
    "sam = sam_model_registry[model_type](checkpoint=sam_checkpoint)\n",
    "sam.to(device=device)\n",
    "mask_generator = SamAutomaticMaskGenerator(sam)\n",
    "predictor = SamPredictor(sam)"
   ]
  },
  {
   "cell_type": "code",
   "execution_count": 2,
   "id": "d10298f1",
   "metadata": {},
   "outputs": [],
   "source": [
    "mask_generator = SamAutomaticMaskGenerator(\n",
    "    sam,\n",
    "    points_per_side=16, \n",
    "    pred_iou_thresh=0.80,  \n",
    "    stability_score_thresh=0.80, \n",
    "    min_mask_region_area=1000  \n",
    ")"
   ]
  },
  {
   "cell_type": "code",
   "execution_count": 4,
   "id": "cb08466b",
   "metadata": {},
   "outputs": [
    {
     "name": "stdout",
     "output_type": "stream",
     "text": [
      "모든 마스크가 저장되었습니다.\n"
     ]
    }
   ],
   "source": [
    "import os\n",
    "import cv2\n",
    "import numpy as np\n",
    "\n",
    "\n",
    "def calculate_mask_coverage(mask):\n",
    "    total_pixels = mask.size\n",
    "    non_zero_pixels = np.sum(mask > 0)\n",
    "    return non_zero_pixels / total_pixels\n",
    "\n",
    "# Image_list\n",
    "file_list = os.listdir(\"\")\n",
    "\n",
    "\n",
    "output_root = \"\"\n",
    "os.makedirs(output_root, exist_ok=True)\n",
    "\n",
    "for file in file_list:\n",
    "    image_path = os.path.join(\"\", file)\n",
    "    image = cv2.imread(image_path)\n",
    "    image = cv2.cvtColor(image, cv2.COLOR_BGR2RGB)\n",
    "\n",
    "    image_name, _ = os.path.splitext(file)\n",
    "    image_output_dir = os.path.join(output_root, image_name)\n",
    "    os.makedirs(image_output_dir, exist_ok=True)\n",
    "\n",
    "    masks = mask_generator.generate(image)\n",
    "\n",
    "    for i, mask_dict in enumerate(masks):\n",
    "        mask = mask_dict['segmentation'].astype(np.uint8) * 255\n",
    "\n",
    "        mask_coverage = calculate_mask_coverage(mask)\n",
    "\n",
    "        if mask_coverage > 0.95:\n",
    "            continue\n",
    "\n",
    "        mask_filename = f\"{image_name}_{i}.jpg\"\n",
    "        mask_path = os.path.join(image_output_dir, mask_filename)\n",
    "        cv2.imwrite(mask_path, mask)\n"
   ]
  },
  {
   "cell_type": "code",
   "execution_count": null,
   "id": "f475ce71",
   "metadata": {},
   "outputs": [],
   "source": []
  }
 ],
 "metadata": {
  "kernelspec": {
   "display_name": "4090",
   "language": "python",
   "name": "worms"
  },
  "language_info": {
   "codemirror_mode": {
    "name": "ipython",
    "version": 3
   },
   "file_extension": ".py",
   "mimetype": "text/x-python",
   "name": "python",
   "nbconvert_exporter": "python",
   "pygments_lexer": "ipython3",
   "version": "3.9.0"
  }
 },
 "nbformat": 4,
 "nbformat_minor": 5
}
